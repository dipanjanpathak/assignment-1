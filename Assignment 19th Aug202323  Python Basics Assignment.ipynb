{
 "cells": [
  {
   "cell_type": "raw",
   "id": "dac887f9-f9d0-4a4f-8f04-5e7e8bf3ab05",
   "metadata": {},
   "source": [
    "TOPIC: Python Basics Variable"
   ]
  },
  {
   "cell_type": "raw",
   "id": "cb019915-4a22-4268-8445-76e15675599b",
   "metadata": {},
   "source": [
    "1. Declare two variables, `x` and `y`, and assign them integer values. Swap the\n",
    "values of these variables without using any temporary variable."
   ]
  },
  {
   "cell_type": "code",
   "execution_count": 5,
   "id": "16cb05ea-afd7-432f-aa7d-7a33e9770976",
   "metadata": {},
   "outputs": [
    {
     "name": "stdout",
     "output_type": "stream",
     "text": [
      "2 3\n",
      "3 2\n"
     ]
    }
   ],
   "source": [
    "x,y = (2,3)\n",
    "print(x,y)\n",
    "# 1st method:\n",
    "# x= 3\n",
    "# y=2\n",
    "\n",
    "#2nd Method:\n",
    "x,y=y,x\n",
    "print(x,y)"
   ]
  },
  {
   "cell_type": "raw",
   "id": "a998f8b6-dc78-4f69-8e09-12d7d32ba071",
   "metadata": {},
   "source": [
    "2. Create a program that calculates the area of a rectangle. Take the length and\n",
    "width as inputs from the user and store them in variables. Calculate and\n",
    "display the area."
   ]
  },
  {
   "cell_type": "code",
   "execution_count": 7,
   "id": "2f92f999-ffc9-4dd0-a3b2-6ecae20f0425",
   "metadata": {},
   "outputs": [
    {
     "name": "stdin",
     "output_type": "stream",
     "text": [
      "Enter length:  4\n",
      "Enter width:  6\n"
     ]
    },
    {
     "name": "stdout",
     "output_type": "stream",
     "text": [
      "The area of rectangle is:  24\n"
     ]
    }
   ],
   "source": [
    "a = int(input(\"Enter length: \"))\n",
    "b = int(input(\"Enter width: \"))\n",
    "\n",
    "print (\"The area of rectangle is: \", a*b)"
   ]
  },
  {
   "cell_type": "raw",
   "id": "1d15075a-19ff-4e8a-ac83-2b8fc9c11c2c",
   "metadata": {},
   "source": [
    "3. Write a Python program that converts temperatures from Celsius to\n",
    "Fahrenheit. Take the temperature in Celsius as input, store it in a variable,\n",
    "convert it to Fahrenheit, and display the result."
   ]
  },
  {
   "cell_type": "code",
   "execution_count": null,
   "id": "1e4fdbed-6979-4344-b322-2799702b2823",
   "metadata": {},
   "outputs": [],
   "source": [
    "inputCelcius = float(input(\"Enter the data in Celcius: \"))\n",
    "Ferenhite = (inputCelcius*(9/5))+32\n",
    "print(inputCelcius,\" degree celcius = \", Ferenhite, \"degree Ferenhite\")"
   ]
  },
  {
   "cell_type": "code",
   "execution_count": null,
   "id": "5ee577f8-4b42-4546-a6f1-d34c9a6df8e7",
   "metadata": {},
   "outputs": [],
   "source": []
  },
  {
   "cell_type": "raw",
   "id": "5018db0e-aa77-41f4-a4d9-0be29c2cbceb",
   "metadata": {},
   "source": [
    "TOPIC: String Based Questions"
   ]
  },
  {
   "cell_type": "raw",
   "id": "b97d3f78-ff2b-43f4-80cc-19fad9f37a60",
   "metadata": {},
   "source": [
    "1. Write a Python program that takes a string as input and prints the length of\n",
    "the string."
   ]
  },
  {
   "cell_type": "code",
   "execution_count": null,
   "id": "30fd37c5-2cc9-4ad8-8b1d-a6b7518007db",
   "metadata": {},
   "outputs": [],
   "source": [
    "userInput = input(\"Enter the data to check its length: \")\n",
    "checkLength = len(userInput)\n",
    "print (f'The length of {userInput} is {checkLength}')"
   ]
  },
  {
   "cell_type": "raw",
   "id": "2593e55a-690c-4a39-87d6-efc2bffa5165",
   "metadata": {},
   "source": [
    "2. Create a program that takes a sentence from the user and counts the number\n",
    "of vowels (a, e, i, o, u) in the string."
   ]
  },
  {
   "cell_type": "code",
   "execution_count": null,
   "id": "c2298b6e-9130-4041-aa8f-b0dba04bd4f9",
   "metadata": {},
   "outputs": [],
   "source": [
    "userInput = input(\"Input the sentence: \")\n",
    "vowels = \"aeiouAEIOU\"\n",
    "count =0\n",
    "for char in userInput:\n",
    "  if char in vowels:\n",
    "   count +=1\n",
    "print (f'The vowels content in {userInput} is {count}')"
   ]
  },
  {
   "cell_type": "raw",
   "id": "c26f5854-de55-45c8-82c3-b281ffc8144c",
   "metadata": {},
   "source": [
    "3. Given a string, reverse the order of characters using string slicing and print\n",
    "the reversed string."
   ]
  },
  {
   "cell_type": "code",
   "execution_count": null,
   "id": "a05d8b5b-9dc5-4967-8e5c-39f8c0aa818c",
   "metadata": {},
   "outputs": [],
   "source": [
    "userInput = input(\"Ener the data: \")\n",
    "reverseData = userInput[::-1]\n",
    "print (f\"Your reverse data is: {reverseData}\")"
   ]
  },
  {
   "cell_type": "raw",
   "id": "06d7614e-3585-47fa-914e-b9fc2e065126",
   "metadata": {},
   "source": [
    "4. Write a program that takes a string as input and checks if it is a palindrome\n",
    "(reads the same forwards and backwards)."
   ]
  },
  {
   "cell_type": "code",
   "execution_count": null,
   "id": "a26c0177-c6ea-47c9-8837-f9f15cc98782",
   "metadata": {},
   "outputs": [],
   "source": [
    "userInput = input(\"Enter your data to check if palindrome or not \")\n",
    "check = userInput[::-1]\n",
    "if (userInput==check):\n",
    "  print(\"yes, your data is palindrome\")\n",
    "else:\n",
    "  print(\"Your input is not palindrome\")"
   ]
  },
  {
   "cell_type": "raw",
   "id": "d2704a2e-b722-43c6-a779-bfc1aeac5b4e",
   "metadata": {},
   "source": [
    "Create a program that takes a string as input and removes all the spaces from\n",
    "it. Print the modified string without spaces."
   ]
  },
  {
   "cell_type": "code",
   "execution_count": null,
   "id": "614eb9f3-6cec-4871-9464-1c763d1bca8b",
   "metadata": {},
   "outputs": [],
   "source": [
    "userInput= input (\"Enter the data: \")\n",
    "newData = userInput.replace(\" \",\"\")\n",
    "print(f\"Your modified data is: {newData}\")"
   ]
  }
 ],
 "metadata": {
  "kernelspec": {
   "display_name": "Python 3 (ipykernel)",
   "language": "python",
   "name": "python3"
  },
  "language_info": {
   "codemirror_mode": {
    "name": "ipython",
    "version": 3
   },
   "file_extension": ".py",
   "mimetype": "text/x-python",
   "name": "python",
   "nbconvert_exporter": "python",
   "pygments_lexer": "ipython3",
   "version": "3.10.8"
  }
 },
 "nbformat": 4,
 "nbformat_minor": 5
}
